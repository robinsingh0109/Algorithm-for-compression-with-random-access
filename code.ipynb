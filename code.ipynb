{
 "cells": [
  {
   "cell_type": "code",
   "execution_count": 2,
   "id": "0d8911d1",
   "metadata": {},
   "outputs": [],
   "source": [
    "import subprocess\n",
    "import re"
   ]
  },
  {
   "cell_type": "code",
   "execution_count": 3,
   "id": "fe3e2ca2",
   "metadata": {},
   "outputs": [],
   "source": [
    "base_dir = \"/home/robin/test/\"\n",
    "count=[]"
   ]
  },
  {
   "cell_type": "code",
   "execution_count": 4,
   "id": "6c821eeb",
   "metadata": {},
   "outputs": [],
   "source": [
    "with open('/home/robin/test/testsequence.fna', 'r') as read_file:\n",
    "    line = read_file.read()\n",
    "read_file.close()"
   ]
  },
  {
   "cell_type": "code",
   "execution_count": 5,
   "id": "8f79c1f3",
   "metadata": {},
   "outputs": [],
   "source": [
    "def split_and_save_file(line, file_name):\n",
    "    with open(file_name, 'w') as write_file:\n",
    "        write_file.write(line)\n",
    "    write_file.close()"
   ]
  },
  {
   "cell_type": "code",
   "execution_count": 6,
   "id": "ddade959",
   "metadata": {},
   "outputs": [],
   "source": [
    "def countingcharacter(file):\n",
    "    numberoflines=0\n",
    "    numberofcharacters=0\n",
    "    for line in file:\n",
    "        line=line.strip(\"\\n\")\n",
    "        numberoflines+=1\n",
    "        numberofcharacters+=len(line)\n",
    "        return numberofcharacters\n"
   ]
  },
  {
   "cell_type": "code",
   "execution_count": 7,
   "id": "6a08a706",
   "metadata": {},
   "outputs": [
    {
     "name": "stderr",
     "output_type": "stream",
     "text": [
      "zstd: /home/robin/test/dict1.zst already exists; overwrite (y/n) ? Not overwritten  \n",
      "zstd: /home/robin/test/dict2.zst already exists; overwrite (y/n) ? Not overwritten  \n",
      "zstd: /home/robin/test/dict3.zst already exists; overwrite (y/n) ? Not overwritten  \n",
      "zstd: /home/robin/test/dict4.zst already exists; overwrite (y/n) ? Not overwritten  \n",
      "zstd: /home/robin/test/dict5.zst already exists; overwrite (y/n) ? Not overwritten  \n"
     ]
    }
   ],
   "source": [
    "lines = line.split('>')\n",
    "prev_loc = 0\n",
    "for i in range(1, len(lines)):\n",
    "    file_name = base_dir + \"dict\" + str(i)\n",
    "    split_and_save_file(lines[i], file_name)\n",
    "    subprocess.run(\"zstd -z {}\".format(file_name), shell=True)\n",
    "    counter=0\n",
    "    with open('{}.zst'.format(file_name),'rb')as compressed_file:\n",
    "        file=compressed_file.read()\n",
    "        counter=len(file)\n",
    "        count.append(prev_loc)\n",
    "        prev_loc = prev_loc + counter\n",
    "        data1=data2= \"\"\n",
    "        with open('/home/robin/test/compressed_concatenated.zst','rb') as fp1:\n",
    "            data1=fp1.read()\n",
    "            fp1.close()\n",
    "        data1+=file\n",
    "        with open('/home/robin/test/compressed_concatenated.zst','wb') as fp3:\n",
    "            fp3.write(data1)\n",
    "            fp3.close()\n",
    "            \n",
    "            \n",
    "        \n",
    "        \n",
    "        "
   ]
  },
  {
   "cell_type": "code",
   "execution_count": 8,
   "id": "62800908",
   "metadata": {},
   "outputs": [
    {
     "name": "stdout",
     "output_type": "stream",
     "text": [
      "[0, 410, 1007, 1446, 1854]\n"
     ]
    }
   ],
   "source": [
    "print(count)"
   ]
  },
  {
   "cell_type": "code",
   "execution_count": 9,
   "id": "1e31e83c",
   "metadata": {},
   "outputs": [
    {
     "name": "stderr",
     "output_type": "stream",
     "text": [
      "zstd: /home/robin/test/comp_concatenated0 already exists; overwrite (y/n) ? Not overwritten  \n",
      "zstd: /home/robin/test/comp_concatenated1 already exists; overwrite (y/n) ? Not overwritten  \n",
      "zstd: /home/robin/test/comp_concatenated2 already exists; overwrite (y/n) ? Not overwritten  \n",
      "zstd: /home/robin/test/comp_concatenated3 already exists; overwrite (y/n) ? Not overwritten  \n",
      "zstd: /home/robin/test/comp_concatenated4 already exists; overwrite (y/n) ? Not overwritten  \n"
     ]
    }
   ],
   "source": [
    "data3= \"\"\n",
    "decomp = \"\"\n",
    "decomp_text = \"\"\n",
    "with open('/home/robin/test/compressed_concatenated.zst','rb') as fp4:\n",
    "    data3=fp4.read()\n",
    "    fp4.close()\n",
    "\n",
    "for i in range(0, len(count)):\n",
    "    comp_text = \"\"\n",
    "    if i == len(count)-1:\n",
    "        comp_text = data3[count[i]:]\n",
    "    else:\n",
    "        comp_text = data3[count[i]: count[i+1]]\n",
    "        \n",
    "    with open('/home/robin/test/comp_concatenated{}.zst'.format(i),'wb') as fp3:\n",
    "        fp3.write(comp_text)\n",
    "        fp3.close()\n",
    "    file_name1 = \"/home/robin/test/comp_concatenated{}.zst\".format(i)\n",
    "    subprocess.run(\"zstd -d {}\".format(file_name1), shell=True)\n",
    "    with open('/home/robin/test/comp_concatenated{}'.format(i),'r') as fp4:\n",
    "        decomp_text = fp4.read()\n",
    "        fp3.close()\n",
    "    decomp_text = \">\" + decomp_text\n",
    "    decomp = decomp + decomp_text\n",
    "\n",
    "with open('/home/robin/test/decompressed.fna'.format(i),'w') as fp3:\n",
    "    fp3.write(decomp)\n",
    "    fp3.close()"
   ]
  },
  {
   "cell_type": "code",
   "execution_count": 10,
   "id": "be128c28",
   "metadata": {},
   "outputs": [
    {
     "name": "stdout",
     "output_type": "stream",
     "text": [
      ">NW_001845990.1 Drosophila melanogaster chromosome X 211000022278099 sequence\n",
      "attatattatattatattatat\n"
     ]
    }
   ],
   "source": [
    "print(decomp[:100])"
   ]
  },
  {
   "cell_type": "code",
   "execution_count": 11,
   "id": "b1b1ade1",
   "metadata": {},
   "outputs": [
    {
     "name": "stdout",
     "output_type": "stream",
     "text": [
      "NW_001845990.1 Drosophila melanogaster chromosome X 211000022278099 sequence\n",
      "attatattatattatattatatt\n"
     ]
    }
   ],
   "source": [
    "print(lines[1][0:100])\n"
   ]
  }
 ],
 "metadata": {
  "kernelspec": {
   "display_name": "Python 3 (ipykernel)",
   "language": "python",
   "name": "python3"
  },
  "language_info": {
   "codemirror_mode": {
    "name": "ipython",
    "version": 3
   },
   "file_extension": ".py",
   "mimetype": "text/x-python",
   "name": "python",
   "nbconvert_exporter": "python",
   "pygments_lexer": "ipython3",
   "version": "3.7.11"
  }
 },
 "nbformat": 4,
 "nbformat_minor": 5
}
